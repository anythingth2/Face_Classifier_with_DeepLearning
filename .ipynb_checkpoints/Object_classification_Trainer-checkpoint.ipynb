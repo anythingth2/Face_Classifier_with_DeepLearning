{
 "cells": [
  {
   "cell_type": "code",
   "execution_count": 1,
   "metadata": {},
   "outputs": [
    {
     "name": "stderr",
     "output_type": "stream",
     "text": [
      "c:\\python36\\lib\\site-packages\\h5py\\__init__.py:36: FutureWarning: Conversion of the second argument of issubdtype from `float` to `np.floating` is deprecated. In future, it will be treated as `np.float64 == np.dtype(float).type`.\n",
      "  from ._conv import register_converters as _register_converters\n"
     ]
    },
    {
     "name": "stdout",
     "output_type": "stream",
     "text": [
      "curses is not supported on this machine (please install/reinstall curses for an optimal experience)\n"
     ]
    }
   ],
   "source": [
    "import numpy as np\n",
    "import pandas as pd\n",
    "import cv2\n",
    "import tflearn\n",
    "import tensorflow as tf\n",
    "import pickle"
   ]
  },
  {
   "cell_type": "code",
   "execution_count": 2,
   "metadata": {},
   "outputs": [],
   "source": [
    "data = tflearn.datasets.cifar10.load_data(one_hot=True)\n"
   ]
  },
  {
   "cell_type": "code",
   "execution_count": 3,
   "metadata": {},
   "outputs": [
    {
     "data": {
      "text/plain": [
       "intra_op_parallelism_threads: 4\n",
       "inter_op_parallelism_threads: 4\n",
       "gpu_options {\n",
       "  per_process_gpu_memory_fraction: 0.5\n",
       "}\n",
       "allow_soft_placement: true"
      ]
     },
     "execution_count": 3,
     "metadata": {},
     "output_type": "execute_result"
    }
   ],
   "source": [
    "tflearn.init_graph(num_cores=4,gpu_memory_fraction=0.5)"
   ]
  },
  {
   "cell_type": "code",
   "execution_count": 4,
   "metadata": {},
   "outputs": [
    {
     "name": "stdout",
     "output_type": "stream",
     "text": [
      "WARNING:tensorflow:From c:\\python36\\lib\\site-packages\\tflearn\\initializations.py:119: UniformUnitScaling.__init__ (from tensorflow.python.ops.init_ops) is deprecated and will be removed in a future version.\n",
      "Instructions for updating:\n",
      "Use tf.initializers.variance_scaling instead with distribution=uniform to get equivalent behavior.\n",
      "WARNING:tensorflow:From c:\\python36\\lib\\site-packages\\tflearn\\objectives.py:66: calling reduce_sum (from tensorflow.python.ops.math_ops) with keep_dims is deprecated and will be removed in a future version.\n",
      "Instructions for updating:\n",
      "keep_dims is deprecated, use keepdims instead\n"
     ]
    }
   ],
   "source": [
    "net = tflearn.input_data(shape=[None,32,32,3])\n",
    "net = tflearn.layers.conv_2d(net,32,3,activation='relu')\n",
    "net = tflearn.layers.max_pool_2d(net,2)\n",
    "net = tflearn.layers.conv_2d(net,64,3,activation='relu')\n",
    "net = tflearn.layers.conv_2d(net,64,3,activation='relu')\n",
    "net = tflearn.layers.max_pool_2d(net,2)\n",
    "net = tflearn.layers.fully_connected(net,512,activation='relu')\n",
    "net = tflearn.layers.dropout(net,0.5)\n",
    "net = tflearn.layers.fully_connected(net,10,activation='softmax')\n",
    "net = tflearn.layers.estimator.regression(net,optimizer='adam',loss='categorical_crossentropy',\n",
    "                     learning_rate=0.001)\n"
   ]
  },
  {
   "cell_type": "code",
   "execution_count": 5,
   "metadata": {},
   "outputs": [],
   "source": [
    "(x,y),(x_test,y_test) = data"
   ]
  },
  {
   "cell_type": "code",
   "execution_count": 6,
   "metadata": {},
   "outputs": [
    {
     "name": "stdout",
     "output_type": "stream",
     "text": [
      "Training Step: 26049  | total loss: \u001b[1m\u001b[32m0.08385\u001b[0m\u001b[0m | time: 116.797s\n",
      "| Adam | epoch: 050 | loss: 0.08385 -- iter: 49920/50000\n",
      "Training Step: 26050  | total loss: \u001b[1m\u001b[32m0.07709\u001b[0m\u001b[0m | time: 125.051s\n",
      "| Adam | epoch: 050 | loss: 0.07709 | val_loss: 1.61073 -- iter: 50000/50000\n",
      "--\n",
      "INFO:tensorflow:C:\\Users\\ChiChaChai\\Documents\\Object_Classifier_with_DeepLearning\\object_classifier.ckpt-26050 is not in all_model_checkpoint_paths. Manually adding it.\n",
      "INFO:tensorflow:C:\\Users\\ChiChaChai\\Documents\\Object_Classifier_with_DeepLearning\\model.tfl is not in all_model_checkpoint_paths. Manually adding it.\n"
     ]
    }
   ],
   "source": [
    "with tf.device(\"/gpu:1\"):\n",
    "    model = tflearn.DNN(net,checkpoint_path='model/object_classifier.ckpt')\n",
    "    model.fit(x,y,n_epoch=50,shuffle=True,validation_set=(x_test,y_test),batch_size=96)\n",
    "    model.save('model/model.tfl')"
   ]
  },
  {
   "cell_type": "code",
   "execution_count": 9,
   "metadata": {},
   "outputs": [
    {
     "name": "stdout",
     "output_type": "stream",
     "text": [
      "INFO:tensorflow:C:\\Users\\ChiChaChai\\Documents\\Object_Classifier_with_DeepLearning\\model\\model.tfl is not in all_model_checkpoint_paths. Manually adding it.\n"
     ]
    }
   ],
   "source": []
  },
  {
   "cell_type": "code",
   "execution_count": null,
   "metadata": {},
   "outputs": [],
   "source": []
  }
 ],
 "metadata": {
  "kernelspec": {
   "display_name": "Python 3",
   "language": "python",
   "name": "python3"
  },
  "language_info": {
   "codemirror_mode": {
    "name": "ipython",
    "version": 3
   },
   "file_extension": ".py",
   "mimetype": "text/x-python",
   "name": "python",
   "nbconvert_exporter": "python",
   "pygments_lexer": "ipython3",
   "version": "3.6.2"
  }
 },
 "nbformat": 4,
 "nbformat_minor": 2
}
